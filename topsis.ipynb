{
 "cells": [
  {
   "cell_type": "code",
   "execution_count": null,
   "metadata": {},
   "outputs": [],
   "source": [
    "evaluation_results = pd.read_csv(\"/kaggle/input/inputfortopsis/evaluation_results.csv\")\n",
    "print(evaluation_results)"
   ]
  },
  {
   "cell_type": "code",
   "execution_count": null,
   "metadata": {},
   "outputs": [],
   "source": [
    "# !pip install scikit-criteria\n",
    "import numpy as np\n",
    "import pandas as pd\n",
    "from sklearn import preprocessing\n",
    "from skcriteria import mkdm"
   ]
  },
  {
   "cell_type": "code",
   "execution_count": null,
   "metadata": {},
   "outputs": [],
   "source": [
    "weights = [0.25, 0.25, 0.25, 0.25] "
   ]
  },
  {
   "cell_type": "code",
   "execution_count": null,
   "metadata": {},
   "outputs": [],
   "source": [
    "# Normalize the scores\n",
    "normalized_scores = evaluation_results.iloc[:, 1:].apply(lambda x: (x - x.min()) / (x.max() - x.min()))\n",
    "\n",
    "# Convert the normalized scores to a numpy array\n",
    "normalized_scores_array = normalized_scores.to_numpy()\n",
    "\n",
    "# Define the ideal and negative-ideal solutions\n",
    "ideal_solution = np.max(normalized_scores_array, axis=0)\n",
    "negative_ideal_solution = np.min(normalized_scores_array, axis=0)\n",
    "\n",
    "# Calculate the Euclidean distances to ideal and negative-ideal solutions\n",
    "euclidean_distances_to_ideal = np.linalg.norm(normalized_scores_array - ideal_solution, axis=1)\n",
    "euclidean_distances_to_negative_ideal = np.linalg.norm(normalized_scores_array - negative_ideal_solution, axis=1)\n",
    "\n",
    "# Calculate the TOPSIS scores\n",
    "topsis_scores = euclidean_distances_to_negative_ideal / (euclidean_distances_to_ideal + euclidean_distances_to_negative_ideal)\n",
    "\n",
    "# Add TOPSIS scores to your evaluation_results DataFrame\n",
    "evaluation_results[\"TOPSIS Score\"] = topsis_scores\n",
    "\n",
    "# Rank based on TOPSIS scores\n",
    "evaluation_results[\"Rank\"] = evaluation_results[\"TOPSIS Score\"].rank(ascending=False)\n",
    "\n",
    "# Display the final evaluation_results DataFrame\n",
    "print(evaluation_results)"
   ]
  },
  {
   "cell_type": "code",
   "execution_count": null,
   "metadata": {},
   "outputs": [],
   "source": [
    "evaluation_results.to_csv(\"topsis_results.csv\", index=False)"
   ]
  }
 ],
 "metadata": {
  "kernelspec": {
   "display_name": "base",
   "language": "python",
   "name": "python3"
  },
  "language_info": {
   "codemirror_mode": {
    "name": "ipython",
    "version": 3
   },
   "file_extension": ".py",
   "mimetype": "text/x-python",
   "name": "python",
   "nbconvert_exporter": "python",
   "pygments_lexer": "ipython3",
   "version": "3.11.5"
  },
  "orig_nbformat": 4
 },
 "nbformat": 4,
 "nbformat_minor": 2
}
